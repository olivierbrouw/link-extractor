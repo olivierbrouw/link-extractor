{
 "cells": [
  {
   "cell_type": "markdown",
   "metadata": {},
   "source": [
    "# Example link-extractor funda"
   ]
  },
  {
   "cell_type": "markdown",
   "metadata": {},
   "source": [
    "* conda config --set ssl_verify False\n",
    "* conda install -c anaconda scrapy"
   ]
  },
  {
   "cell_type": "code",
   "execution_count": 109,
   "metadata": {
    "collapsed": false
   },
   "outputs": [],
   "source": [
    "import re\n",
    "import scrapy\n",
    "from scrapy.spiders import CrawlSpider, Rule\n",
    "from scrapy.linkextractors import LinkExtractor"
   ]
  },
  {
   "cell_type": "code",
   "execution_count": 232,
   "metadata": {
    "collapsed": false
   },
   "outputs": [
    {
     "name": "stdout",
     "output_type": "stream",
     "text": [
      "['http://www.funda.nl/koop/verkocht/amsterdam/p1/'] http://www.funda.nl/koop/verkocht/amsterdam/\n"
     ]
    }
   ],
   "source": [
    "place = 'amsterdam'\n",
    "\n",
    "start_urls = [\"http://www.funda.nl/koop/verkocht/%s/p%s/\" % (place, page_number) for page_number in range(1,2)]\n",
    "base_url = \"http://www.funda.nl/koop/verkocht/%s/\" % place\n",
    "\n",
    "print(start_urls,base_url)"
   ]
  },
  {
   "cell_type": "code",
   "execution_count": 233,
   "metadata": {
    "collapsed": false
   },
   "outputs": [],
   "source": [
    "le1 = LinkExtractor(allow=r'%s+(huis|appartement)-\\d{8}' % base_url)"
   ]
  },
  {
   "cell_type": "code",
   "execution_count": null,
   "metadata": {
    "collapsed": true
   },
   "outputs": [],
   "source": [
    "page = requests.get('http://www.funda.nl/koop/verkocht/amsterdam/p1/')\n",
    "page = page.content"
   ]
  },
  {
   "cell_type": "code",
   "execution_count": null,
   "metadata": {
    "collapsed": true
   },
   "outputs": [],
   "source": [
    "page = scrapy.http.HtmlResponse('http://www.funda.nl/koop/verkocht/amsterdam/p1/',body=str(page),encoding='utf-8')"
   ]
  },
  {
   "cell_type": "code",
   "execution_count": null,
   "metadata": {
    "collapsed": true
   },
   "outputs": [],
   "source": [
    "le1.extract_links(page)"
   ]
  },
  {
   "cell_type": "markdown",
   "metadata": {},
   "source": [
    "# Example xpath funda"
   ]
  },
  {
   "cell_type": "code",
   "execution_count": 179,
   "metadata": {
    "collapsed": false
   },
   "outputs": [],
   "source": [
    "from lxml import html\n",
    "import requests\n",
    "\n",
    "page = requests.get('http://www.funda.nl/koop/verkocht/maartensdijk/huis-49900757-achterweteringseweg-18/kenmerken/')\n",
    "#page = requests.get(str(str(start_urls[0])))\n",
    "tree = html.fromstring(page.content)\n",
    "\n",
    "tree.xpath(\"//th[contains(.,'woonoppervlakte')]/following-sibling::td[1]/span/text()\")"
   ]
  }
 ],
 "metadata": {
  "anaconda-cloud": {},
  "kernelspec": {
   "display_name": "Python [conda root]",
   "language": "python",
   "name": "conda-root-py"
  },
  "language_info": {
   "codemirror_mode": {
    "name": "ipython",
    "version": 3
   },
   "file_extension": ".py",
   "mimetype": "text/x-python",
   "name": "python",
   "nbconvert_exporter": "python",
   "pygments_lexer": "ipython3",
   "version": "3.5.2"
  }
 },
 "nbformat": 4,
 "nbformat_minor": 1
}
