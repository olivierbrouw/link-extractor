{
 "cells": [
  {
   "cell_type": "markdown",
   "metadata": {},
   "source": [
    "# Example link-extractor funda"
   ]
  },
  {
   "cell_type": "markdown",
   "metadata": {},
   "source": [
    "* conda config --set ssl_verify False\n",
    "* conda install -c anaconda scrapy"
   ]
  },
  {
   "cell_type": "code",
   "execution_count": 109,
   "metadata": {
    "collapsed": false
   },
   "outputs": [],
   "source": [
    "import re\n",
    "import scrapy\n",
    "from scrapy.spiders import CrawlSpider, Rule\n",
    "from scrapy.linkextractors import LinkExtractor"
   ]
  },
  {
   "cell_type": "code",
   "execution_count": 232,
   "metadata": {
    "collapsed": false
   },
   "outputs": [
    {
     "name": "stdout",
     "output_type": "stream",
     "text": [
      "['http://www.funda.nl/koop/verkocht/amsterdam/p1/'] http://www.funda.nl/koop/verkocht/amsterdam/\n"
     ]
    }
   ],
   "source": [
    "place = 'amsterdam'\n",
    "\n",
    "start_urls = [\"http://www.funda.nl/koop/verkocht/%s/p%s/\" % (place, page_number) for page_number in range(1,2)]\n",
    "base_url = \"http://www.funda.nl/koop/verkocht/%s/\" % place\n",
    "\n",
    "print(start_urls,base_url)"
   ]
  },
  {
   "cell_type": "code",
   "execution_count": 233,
   "metadata": {
    "collapsed": false
   },
   "outputs": [],
   "source": [
    "le1 = LinkExtractor(allow=r'%s+(huis|appartement)-\\d{8}' % base_url)"
   ]
  },
  {
   "cell_type": "code",
   "execution_count": null,
   "metadata": {
    "collapsed": true
   },
   "outputs": [],
   "source": [
    "page = requests.get('http://www.funda.nl/koop/verkocht/amsterdam/p1/')\n",
    "page = page.content"
   ]
  },
  {
   "cell_type": "code",
   "execution_count": null,
   "metadata": {
    "collapsed": true
   },
   "outputs": [],
   "source": [
    "page = scrapy.http.HtmlResponse('http://www.funda.nl/koop/verkocht/amsterdam/p1/',body=str(page),encoding='utf-8')"
   ]
  },
  {
   "cell_type": "code",
   "execution_count": null,
   "metadata": {
    "collapsed": true
   },
   "outputs": [],
   "source": [
    "le1.extract_links(page)"
   ]
  },
  {
   "cell_type": "markdown",
   "metadata": {},
   "source": [
    "# Example xpath funda"
   ]
  },
  {
   "cell_type": "code",
   "execution_count": 179,
   "metadata": {
    "collapsed": false
   },
   "outputs": [],
   "source": [
    "from lxml import html\n",
    "import requests\n",
    "\n",
    "page = requests.get('http://www.funda.nl/koop/verkocht/maartensdijk/huis-49900757-achterweteringseweg-18/kenmerken/')\n",
    "#page = requests.get(str(str(start_urls[0])))\n",
    "tree = html.fromstring(page.content)\n",
    "\n",
    "tree.xpath(\"//th[contains(.,'woonoppervlakte')]/following-sibling::td[1]/span/text()\")"
   ]
  },
  {
   "cell_type": "code",
   "execution_count": 2,
   "metadata": {
    "collapsed": true
   },
   "outputs": [],
   "source": [
    "from lxml import html\n",
    "import requests\n",
    "\n",
    "page = requests.get('https://services1.arcgis.com/v6W5HAVrpgSg3vts/arcgis/rest/services/IStoringen_Productie_V7/FeatureServer/0/query?avoidBrowserCache=1480455457538&callback=angular.callbacks._1&f=pjson&orderByFields=STORING_DATUM_GEMELD+DESC&outFields=*&resultOffset=0&resultRecordCount=5&returnGeometry=false&spatialRel=esriSpatialRelIntersects&where=(STORING_DATUM_GEMELD+%3E%3D+%272016-08-29+00:00:00%27+AND+(STORING_DATUM_EIND+IS+NULL+OR+STORING_DATUM_EIND+%3C%3D+%271970-01-01+01:00:00%27))+AND+(STORING_DATUM_GEMELD+%3E%3D+%272015-11-29+00:00:00%27+AND+STORING_DATUM_GEMELD+%3C+%272016-11-30+00:00:00%27)+AND+(STORING_GETROFFEN_KLANTEN+!%3D+%27%3C+2%27)+AND+(STORING_GETROFFEN_POSTCODES+!%3D+%270000AA%27)')\n",
    "\n",
    "page.content"
   ]
  },
  {
   "cell_type": "code",
   "execution_count": null,
   "metadata": {
    "collapsed": true
   },
   "outputs": [],
   "source": [
    "import requests\n",
    "from rest_framework.response import Response\n",
    "...\n",
    "\n",
    "if request.user.is_authenticated():\n",
    "    r = requests.get('http://localhost:8000/foo/bar/', \n",
    "                     auth=HTTPBasicAuth(user, pwd))\n",
    "    return Response(r.json())\n",
    "return Response({'success':'false', 'message':'login required '})"
   ]
  },
  {
   "cell_type": "markdown",
   "metadata": {},
   "source": [
    "# Example Selenium"
   ]
  },
  {
   "cell_type": "markdown",
   "metadata": {},
   "source": [
    "http://stackoverflow.com/questions/25132704/how-to-scrape-some-contents-on-a-website-which-was-hidden-using-js-in-python\n",
    "http://stackoverflow.com/questions/40208051/selenium-using-python-geckodriver-executable-needs-to-be-in-path "
   ]
  },
  {
   "cell_type": "code",
   "execution_count": 3,
   "metadata": {
    "collapsed": false
   },
   "outputs": [
    {
     "ename": "SyntaxError",
     "evalue": "Missing parentheses in call to 'print' (<ipython-input-3-8d363b30e0ad>, line 20)",
     "output_type": "error",
     "traceback": [
      "\u001b[0;36m  File \u001b[0;32m\"<ipython-input-3-8d363b30e0ad>\"\u001b[0;36m, line \u001b[0;32m20\u001b[0m\n\u001b[0;31m    print lender.text\u001b[0m\n\u001b[0m               ^\u001b[0m\n\u001b[0;31mSyntaxError\u001b[0m\u001b[0;31m:\u001b[0m Missing parentheses in call to 'print'\n"
     ]
    }
   ],
   "source": [
    "from selenium import webdriver\n",
    "from selenium.webdriver.support.wait import WebDriverWait\n",
    "import time\n",
    "\n",
    "\n",
    "driver = webdriver.Firefox()\n",
    "driver.get('http://www.kiva.org/lend/742129')\n",
    "\n",
    "for _ in xrange(5):\n",
    "    driver.execute_script(\"window.scrollTo(0, document.body.scrollHeight);\")\n",
    "    time.sleep(1)\n",
    "\n",
    "more = WebDriverWait(driver, 10).until(lambda driver : driver.find_element_by_id('showMoreLenders'))\n",
    "more.click()\n",
    "\n",
    "time.sleep(2)\n",
    "\n",
    "# get the lenders\n",
    "for lender in driver.find_elements_by_xpath('//section[@id=\"theLenders\"]//li//div[@class=\"name\"]/a'):\n",
    "    print lender.text\n",
    "\n",
    "driver.close()"
   ]
  }
 ],
 "metadata": {
  "anaconda-cloud": {},
  "kernelspec": {
   "display_name": "Python [conda root]",
   "language": "python",
   "name": "conda-root-py"
  },
  "language_info": {
   "codemirror_mode": {
    "name": "ipython",
    "version": 3
   },
   "file_extension": ".py",
   "mimetype": "text/x-python",
   "name": "python",
   "nbconvert_exporter": "python",
   "pygments_lexer": "ipython3",
   "version": "3.5.2"
  }
 },
 "nbformat": 4,
 "nbformat_minor": 1
}
